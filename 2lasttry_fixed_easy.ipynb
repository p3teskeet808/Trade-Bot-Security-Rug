{
 "cells": [
  {
   "cell_type": "code",
   "execution_count": 2,
   "id": "6d54f44f",
   "metadata": {},
   "outputs": [
    {
     "name": "stdout",
     "output_type": "stream",
     "text": [
      "Defaulting to user installation because normal site-packages is not writeable\n",
      "Looking in links: /usr/share/pip-wheels\n",
      "Requirement already satisfied: solana in ./.local/lib/python3.10/site-packages (0.36.5)\n",
      "Requirement already satisfied: httpx>=0.23.0 in ./.local/lib/python3.10/site-packages (from solana) (0.28.1)\n",
      "Requirement already satisfied: websockets<=14.2,>=9.0 in ./.local/lib/python3.10/site-packages (from solana) (14.2)\n",
      "Requirement already satisfied: solders<0.26,>=0.23 in ./.local/lib/python3.10/site-packages (from solana) (0.25.0)\n",
      "Requirement already satisfied: construct-typing<0.6.0,>=0.5.2 in ./.local/lib/python3.10/site-packages (from solana) (0.5.6)\n",
      "Requirement already satisfied: typing-extensions>=4.2.0 in ./.local/lib/python3.10/site-packages (from solana) (4.12.2)\n",
      "Requirement already satisfied: construct==2.10.68 in ./.local/lib/python3.10/site-packages (from construct-typing<0.6.0,>=0.5.2->solana) (2.10.68)\n",
      "Requirement already satisfied: anyio in ./.local/lib/python3.10/site-packages (from httpx>=0.23.0->solana) (4.8.0)\n",
      "Requirement already satisfied: certifi in ./.local/lib/python3.10/site-packages (from httpx>=0.23.0->solana) (2025.1.31)\n",
      "Requirement already satisfied: idna in ./.local/lib/python3.10/site-packages (from httpx>=0.23.0->solana) (3.10)\n",
      "Requirement already satisfied: httpcore==1.* in ./.local/lib/python3.10/site-packages (from httpx>=0.23.0->solana) (1.0.7)\n",
      "Requirement already satisfied: h11<0.15,>=0.13 in ./.local/lib/python3.10/site-packages (from httpcore==1.*->httpx>=0.23.0->solana) (0.14.0)\n",
      "Requirement already satisfied: jsonalias==0.1.1 in ./.local/lib/python3.10/site-packages (from solders<0.26,>=0.23->solana) (0.1.1)\n",
      "Requirement already satisfied: exceptiongroup>=1.0.2 in ./.local/lib/python3.10/site-packages (from anyio->httpx>=0.23.0->solana) (1.2.2)\n",
      "Requirement already satisfied: sniffio>=1.1 in ./.local/lib/python3.10/site-packages (from anyio->httpx>=0.23.0->solana) (1.3.1)\n",
      "Note: you may need to restart the kernel to use updated packages.\n"
     ]
    }
   ],
   "source": [
    "# Install required packages (Run this once)\n",
    "%pip install --upgrade solana"
   ]
  },
  {
   "cell_type": "code",
   "execution_count": 3,
   "id": "b619bed6",
   "metadata": {},
   "outputs": [
    {
     "name": "stdout",
     "output_type": "stream",
     "text": [
      "Looking in links: /usr/share/pip-wheels\n",
      "Requirement already satisfied: solana in ./.local/lib/python3.10/site-packages (0.36.5)\n",
      "Requirement already satisfied: solders in ./.local/lib/python3.10/site-packages (0.25.0)\n",
      "Requirement already satisfied: base58 in ./.local/lib/python3.10/site-packages (2.1.1)\n",
      "Requirement already satisfied: python-dotenv in ./.local/lib/python3.10/site-packages (1.0.1)\n",
      "Requirement already satisfied: requests in /usr/local/lib/python3.10/site-packages (2.28.1)\n",
      "Requirement already satisfied: websockets<=14.2,>=9.0 in ./.local/lib/python3.10/site-packages (from solana) (14.2)\n",
      "Requirement already satisfied: typing-extensions>=4.2.0 in ./.local/lib/python3.10/site-packages (from solana) (4.12.2)\n",
      "Requirement already satisfied: construct-typing<0.6.0,>=0.5.2 in ./.local/lib/python3.10/site-packages (from solana) (0.5.6)\n",
      "Requirement already satisfied: httpx>=0.23.0 in ./.local/lib/python3.10/site-packages (from solana) (0.28.1)\n",
      "Requirement already satisfied: jsonalias==0.1.1 in ./.local/lib/python3.10/site-packages (from solders) (0.1.1)\n",
      "Requirement already satisfied: certifi>=2017.4.17 in ./.local/lib/python3.10/site-packages (from requests) (2025.1.31)\n",
      "Requirement already satisfied: charset-normalizer<3,>=2 in /usr/local/lib/python3.10/site-packages (from requests) (2.1.0)\n",
      "Requirement already satisfied: idna<4,>=2.5 in ./.local/lib/python3.10/site-packages (from requests) (3.10)\n",
      "Requirement already satisfied: urllib3<1.27,>=1.21.1 in /usr/local/lib/python3.10/site-packages (from requests) (1.26.9)\n",
      "Requirement already satisfied: construct==2.10.68 in ./.local/lib/python3.10/site-packages (from construct-typing<0.6.0,>=0.5.2->solana) (2.10.68)\n",
      "Requirement already satisfied: anyio in ./.local/lib/python3.10/site-packages (from httpx>=0.23.0->solana) (4.8.0)\n",
      "Requirement already satisfied: httpcore==1.* in ./.local/lib/python3.10/site-packages (from httpx>=0.23.0->solana) (1.0.7)\n",
      "Requirement already satisfied: h11<0.15,>=0.13 in ./.local/lib/python3.10/site-packages (from httpcore==1.*->httpx>=0.23.0->solana) (0.14.0)\n",
      "Requirement already satisfied: exceptiongroup>=1.0.2 in ./.local/lib/python3.10/site-packages (from anyio->httpx>=0.23.0->solana) (1.2.2)\n",
      "Requirement already satisfied: sniffio>=1.1 in ./.local/lib/python3.10/site-packages (from anyio->httpx>=0.23.0->solana) (1.3.1)\n",
      "Note: you may need to restart the kernel to use updated packages.\n"
     ]
    }
   ],
   "source": [
    "# Install required packages (Run this once)\n",
    "%pip install --user solana solders base58 python-dotenv requests"
   ]
  },
  {
   "cell_type": "code",
   "execution_count": 7,
   "id": "2f10c0c1",
   "metadata": {},
   "outputs": [
    {
     "name": "stdout",
     "output_type": "stream",
     "text": [
      "Defaulting to user installation because normal site-packages is not writeable\n",
      "Looking in links: /usr/share/pip-wheels\n",
      "Requirement already satisfied: solana in ./.local/lib/python3.10/site-packages (0.36.5)\n",
      "Requirement already satisfied: construct-typing<0.6.0,>=0.5.2 in ./.local/lib/python3.10/site-packages (from solana) (0.5.6)\n",
      "Requirement already satisfied: websockets<=14.2,>=9.0 in ./.local/lib/python3.10/site-packages (from solana) (14.2)\n",
      "Requirement already satisfied: typing-extensions>=4.2.0 in ./.local/lib/python3.10/site-packages (from solana) (4.12.2)\n",
      "Requirement already satisfied: httpx>=0.23.0 in ./.local/lib/python3.10/site-packages (from solana) (0.28.1)\n",
      "Requirement already satisfied: solders<0.26,>=0.23 in ./.local/lib/python3.10/site-packages (from solana) (0.25.0)\n",
      "Requirement already satisfied: construct==2.10.68 in ./.local/lib/python3.10/site-packages (from construct-typing<0.6.0,>=0.5.2->solana) (2.10.68)\n",
      "Requirement already satisfied: certifi in ./.local/lib/python3.10/site-packages (from httpx>=0.23.0->solana) (2025.1.31)\n",
      "Requirement already satisfied: anyio in ./.local/lib/python3.10/site-packages (from httpx>=0.23.0->solana) (4.8.0)\n",
      "Requirement already satisfied: idna in ./.local/lib/python3.10/site-packages (from httpx>=0.23.0->solana) (3.10)\n",
      "Requirement already satisfied: httpcore==1.* in ./.local/lib/python3.10/site-packages (from httpx>=0.23.0->solana) (1.0.7)\n",
      "Requirement already satisfied: h11<0.15,>=0.13 in ./.local/lib/python3.10/site-packages (from httpcore==1.*->httpx>=0.23.0->solana) (0.14.0)\n",
      "Requirement already satisfied: jsonalias==0.1.1 in ./.local/lib/python3.10/site-packages (from solders<0.26,>=0.23->solana) (0.1.1)\n",
      "Requirement already satisfied: sniffio>=1.1 in ./.local/lib/python3.10/site-packages (from anyio->httpx>=0.23.0->solana) (1.3.1)\n",
      "Requirement already satisfied: exceptiongroup>=1.0.2 in ./.local/lib/python3.10/site-packages (from anyio->httpx>=0.23.0->solana) (1.2.2)\n",
      "Note: you may need to restart the kernel to use updated packages.\n"
     ]
    }
   ],
   "source": [
    "# Install required packages (Run this once)\n",
    "# Install Solana SDK (Run Once)\n",
    "%pip install --upgrade solana\n",
    "\n",
    "# Restart Kernel after installing before running further cells"
   ]
  },
  {
   "cell_type": "code",
   "execution_count": 2,
   "id": "32f8391f",
   "metadata": {},
   "outputs": [],
   "source": [
    "# Import necessary libraries\n",
    "import nbformat\n"
   ]
  },
  {
   "cell_type": "code",
   "execution_count": 2,
   "id": "8f494485",
   "metadata": {},
   "outputs": [
    {
     "name": "stdout",
     "output_type": "stream",
     "text": [
      "✅ base58 is installed and working!\n"
     ]
    }
   ],
   "source": [
    "# Import necessary libraries\n",
    "import base58\n",
    "print(\"✅ base58 is installed and working!\")"
   ]
  },
  {
   "cell_type": "code",
   "execution_count": 1,
   "id": "031ac15f",
   "metadata": {},
   "outputs": [
    {
     "ename": "SyntaxError",
     "evalue": "unmatched '}' (553523093.py, line 26)",
     "output_type": "error",
     "traceback": [
      "\u001b[0;36m  Input \u001b[0;32mIn [1]\u001b[0;36m\u001b[0m\n\u001b[0;31m    print(f\"❌ Error loading wallet: {e}\")SS}\")\u001b[0m\n\u001b[0m                                           ^\u001b[0m\n\u001b[0;31mSyntaxError\u001b[0m\u001b[0;31m:\u001b[0m unmatched '}'\n"
     ]
    }
   ],
   "source": [
    "# Import necessary libraries\n",
    "\n",
    "import os\n",
    "from dotenv import load_dotenv\n",
    "import base58\n",
    "from solana.keypair import Keypair\n",
    "\n",
    "# ✅ Load environment variables from .env\n",
    "env_path = \".env\"\n",
    "if not os.path.exists(env_path):\n",
    "    raise FileNotFoundError(\"Error: .env file is missing!\")\n",
    "\n",
    "load_dotenv(env_path, override=True)\n",
    "\n",
    "# ✅ Fetch Wallet Credentials\n",
    "PRIVATE_KEY = os.getenv(\"PRIVATE_KEY\")\n",
    "SOLANA_WALLET_ADDRESS = os.getenv(\"SOLANA_WALLET_ADDRESS\")\n",
    "\n",
    "# ✅ Validate private key\n",
    "if not PRIVATE_KEY:\n",
    "    raise ValueError(\"Error: PRIVATE_KEY is missing from environment variables.\")\n",
    "\n",
    "try:\n",
    "    private_key_bytes = base58.b58decode(PRIVATE_KEY)\n",
    "    keypair = Keypair.from_secret_key(private_key_bytes)\n",
    "    print(f\"✅ Wallet Loaded: {SOLANA_WALLET_ADDRESS}\")\n",
    "except Exception as e:\n",
    "    print(f\"❌ Error loading wallet: {e}\")SS}\")\n"
   ]
  },
  {
   "cell_type": "code",
   "execution_count": null,
   "id": "a37e3a2a",
   "metadata": {},
   "outputs": [],
   "source": [
    "# Import necessary libraries\n",
    "e solana.rpc.api import Client\n",
    "from solana.keypair imffport Keypair\n"
   ]
  },
  {
   "cell_type": "code",
   "execution_count": 6,
   "id": "3f969c4c",
   "metadata": {},
   "outputs": [],
   "source": [
    "# Import necessary libraries\n",
    "from solders.keypair import Keypair\n"
   ]
  },
  {
   "cell_type": "code",
   "execution_count": null,
   "id": "dec24b0a",
   "metadata": {},
   "outputs": [],
   "source": [
    "# Import necessary libraries\n",
    "\n",
    "import requests\n",
    "\n",
    "def get_swap_route(token_in, token_out, amount, wallet_address, slippage=1, anti_mev=True):\n",
    "    \"\"\"Fetches swap route from GMGN API\"\"\"\n",
    "    url = \"https://gmgn.ai/defi/router/v1/sol/tx/get_swap_route\"\n",
    "    params = {\n",
    "        \"token_in_address\": token_in,\n",
    "        \"token_out_address\": token_out,\n",
    "        \"in_amount\": amount,\n",
    "        \"from_address\": wallet_address,\n",
    "        \"slippage\": slippage,\n",
    "        \"is_anti_mev\": str(anti_mev).lower(),\n",
    "    }\n",
    "    \n",
    "    response = requests.get(url, params=params)\n",
    "\n",
    "    if response.status_code == 200:\n",
    "        data = response.json()\n",
    "        if data.get(\"code\") != 0:  # Handle API errors\n",
    "            print(f\"❌ API Error: {data.get('msg')}\")\n",
    "            return None\n",
    "        return data\n",
    "    else:\n",
    "        print(f\"❌ API Request Failed. Status Code: {response.status_code}\")\n",
    "        return None\n"
   ]
  },
  {
   "cell_type": "code",
   "execution_count": null,
   "id": "e23f1929",
   "metadata": {},
   "outputs": [],
   "source": [
    "# Check if a library is installed properly\n",
    "\n",
    "def submit_transaction(swap_data):\n",
    "    \"\"\"Signs and submits a swap transaction to GMGN\"\"\"\n",
    "    signed_tx = base58.b58encode(swap_data['data']['raw_tx']['swapTransaction']).decode()\n",
    "    \n",
    "    url = \"https://gmgn.ai/defi/router/v1/sol/tx/submit_signed_transaction\"\n",
    "    response = requests.post(url, json={\"signed_tx\": signed_tx})\n",
    "    \n",
    "    if response.status_code == 200:\n",
    "        return response.json()\n",
    "    else:\n",
    "        print(f\"❌ Transaction Submission Failed. Status Code: {response.status_code}\")\n",
    "        return None\n"
   ]
  },
  {
   "cell_type": "code",
   "execution_count": null,
   "id": "8a0d5aff",
   "metadata": {},
   "outputs": [],
   "source": [
    "# Import necessary libraries\n",
    "\n",
    "import time\n",
    "\n",
    "def check_transaction_status(tx_hash, last_valid_height):\n",
    "    \"\"\"Checks if transaction was successfully processed\"\"\"\n",
    "    url = f\"https://gmgn.ai/defi/router/v1/sol/tx/get_transaction_status?hash={tx_hash}&last_valid_height={last_valid_height}\"\n",
    "    \n",
    "    while True:\n",
    "        response = requests.get(url)\n",
    "        status = response.json()\n",
    "        print(status)\n",
    "\n",
    "        if status.get(\"data\", {}).get(\"success\"):\n",
    "            print(\"✅ Transaction Successful!\")\n",
    "            break\n",
    "        elif status.get(\"data\", {}).get(\"expired\"):\n",
    "            print(\"❌ Transaction Expired. Try Again.\")\n",
    "            break\n",
    "\n",
    "        time.sleep(5)\n"
   ]
  },
  {
   "cell_type": "code",
   "execution_count": 1,
   "id": "bd1b25b3",
   "metadata": {},
   "outputs": [
    {
     "ename": "NameError",
     "evalue": "name 'nbformat' is not defined",
     "output_type": "error",
     "traceback": [
      "\u001b[0;31m---------------------------------------------------------------------------\u001b[0m",
      "\u001b[0;31mNameError\u001b[0m                                 Traceback (most recent call last)",
      "Input \u001b[0;32mIn [1]\u001b[0m, in \u001b[0;36m<cell line: 107>\u001b[0;34m()\u001b[0m\n\u001b[1;32m     91\u001b[0m execute_swap_code \u001b[38;5;241m=\u001b[39m \u001b[38;5;124m\"\"\"\u001b[39m\n\u001b[1;32m     92\u001b[0m \u001b[38;5;124m# ✅ Run Full Swap Process\u001b[39m\n\u001b[1;32m     93\u001b[0m \u001b[38;5;124mTOKEN_IN = \u001b[39m\u001b[38;5;124m\"\u001b[39m\u001b[38;5;124mSo11111111111111111111111111111111111111112\u001b[39m\u001b[38;5;124m\"\u001b[39m\u001b[38;5;124m  # Example SOL token\u001b[39m\n\u001b[0;32m   (...)\u001b[0m\n\u001b[1;32m    102\u001b[0m \u001b[38;5;124m        check_transaction_status(tx_result[\u001b[39m\u001b[38;5;124m'\u001b[39m\u001b[38;5;124mdata\u001b[39m\u001b[38;5;124m'\u001b[39m\u001b[38;5;124m][\u001b[39m\u001b[38;5;124m'\u001b[39m\u001b[38;5;124mhash\u001b[39m\u001b[38;5;124m'\u001b[39m\u001b[38;5;124m], swap_data[\u001b[39m\u001b[38;5;124m'\u001b[39m\u001b[38;5;124mdata\u001b[39m\u001b[38;5;124m'\u001b[39m\u001b[38;5;124m][\u001b[39m\u001b[38;5;124m'\u001b[39m\u001b[38;5;124mraw_tx\u001b[39m\u001b[38;5;124m'\u001b[39m\u001b[38;5;124m][\u001b[39m\u001b[38;5;124m'\u001b[39m\u001b[38;5;124mlastValidBlockHeight\u001b[39m\u001b[38;5;124m'\u001b[39m\u001b[38;5;124m])\u001b[39m\n\u001b[1;32m    103\u001b[0m \u001b[38;5;124m\"\"\"\u001b[39m\n\u001b[1;32m    105\u001b[0m \u001b[38;5;66;03m# Updating the notebook\u001b[39;00m\n\u001b[1;32m    106\u001b[0m updated_cells \u001b[38;5;241m=\u001b[39m [\n\u001b[0;32m--> 107\u001b[0m     \u001b[43mnbformat\u001b[49m\u001b[38;5;241m.\u001b[39mv4\u001b[38;5;241m.\u001b[39mnew_code_cell(env_loading_code),\n\u001b[1;32m    108\u001b[0m     nbformat\u001b[38;5;241m.\u001b[39mv4\u001b[38;5;241m.\u001b[39mnew_code_cell(get_swap_route_code),\n\u001b[1;32m    109\u001b[0m     nbformat\u001b[38;5;241m.\u001b[39mv4\u001b[38;5;241m.\u001b[39mnew_code_cell(submit_transaction_code),\n\u001b[1;32m    110\u001b[0m     nbformat\u001b[38;5;241m.\u001b[39mv4\u001b[38;5;241m.\u001b[39mnew_code_cell(check_transaction_status_code),\n\u001b[1;32m    111\u001b[0m     nbformat\u001b[38;5;241m.\u001b[39mv4\u001b[38;5;241m.\u001b[39mnew_code_cell(execute_swap_code),\n\u001b[1;32m    112\u001b[0m ]\n",
      "\u001b[0;31mNameError\u001b[0m: name 'nbformat' is not defined"
     ]
    }
   ],
   "source": [
    "# Import necessary libraries\n",
    "\n",
    "# Step 1: Ensure correct loading of .env variables at the top of the notebook\n",
    "env_loading_code = \"\"\"\n",
    "import os\n",
    "from dotenv import load_dotenv\n",
    "import base58\n",
    "from solana.keypair import Keypair\n",
    "\n",
    "# ✅ Load environment variables from .env\n",
    "load_dotenv(\".env\", override=True)\n",
    "\n",
    "# ✅ Fetch Wallet Credentials\n",
    "PRIVATE_KEY = os.getenv(\"PRIVATE_KEY\")\n",
    "SOLANA_WALLET_ADDRESS = os.getenv(\"SOLANA_WALLET_ADDRESS\")\n",
    "\n",
    "# ✅ Decode Private Key for Signing Transactions\n",
    "private_key_bytes = base58.b58decode(PRIVATE_KEY)\n",
    "keypair = Keypair.from_secret_key(private_key_bytes)\n",
    "\n",
    "print(f\"✅ Wallet Loaded: {SOLANA_WALLET_ADDRESS}\")\n",
    "\"\"\"\n",
    "\n",
    "# Step 2: Fix function to get swap route from GMGN API\n",
    "get_swap_route_code = \"\"\"\n",
    "import requests\n",
    "\n",
    "def get_swap_route(token_in, token_out, amount, wallet_address, slippage=1, anti_mev=True):\n",
    "    \\\"\\\"\\\"Fetches swap route from GMGN API\\\"\\\"\\\"\n",
    "    url = \"https://gmgn.ai/defi/router/v1/sol/tx/get_swap_route\"\n",
    "    params = {\n",
    "        \"token_in_address\": token_in,\n",
    "        \"token_out_address\": token_out,\n",
    "        \"in_amount\": amount,\n",
    "        \"from_address\": wallet_address,\n",
    "        \"slippage\": slippage,\n",
    "        \"is_anti_mev\": str(anti_mev).lower(),\n",
    "    }\n",
    "    \n",
    "    response = requests.get(url, params=params)\n",
    "\n",
    "    if response.status_code == 200:\n",
    "        data = response.json()\n",
    "        if data.get(\"code\") != 0:  # Handle API errors\n",
    "            print(f\"❌ API Error: {data.get('msg')}\")\n",
    "            return None\n",
    "        return data\n",
    "    else:\n",
    "        print(f\"❌ API Request Failed. Status Code: {response.status_code}\")\n",
    "        return None\n",
    "\"\"\"\n",
    "\n",
    "# Step 3: Fix function to submit a transaction\n",
    "submit_transaction_code = \"\"\"\n",
    "def submit_transaction(swap_data):\n",
    "    \\\"\\\"\\\"Signs and submits a swap transaction to GMGN\\\"\\\"\\\"\n",
    "    signed_tx = base58.b58encode(swap_data['data']['raw_tx']['swapTransaction']).decode()\n",
    "    \n",
    "    url = \"https://gmgn.ai/defi/router/v1/sol/tx/submit_signed_transaction\"\n",
    "    response = requests.post(url, json={\"signed_tx\": signed_tx})\n",
    "    \n",
    "    if response.status_code == 200:\n",
    "        return response.json()\n",
    "    else:\n",
    "        print(f\"❌ Transaction Submission Failed. Status Code: {response.status_code}\")\n",
    "        return None\n",
    "\"\"\"\n",
    "\n",
    "# Step 4: Fix function to check transaction status\n",
    "check_transaction_status_code = \"\"\"\n",
    "import time\n",
    "\n",
    "def check_transaction_status(tx_hash, last_valid_height):\n",
    "    \\\"\\\"\\\"Checks if transaction was successfully processed\\\"\\\"\\\"\n",
    "    url = f\"https://gmgn.ai/defi/router/v1/sol/tx/get_transaction_status?hash={tx_hash}&last_valid_height={last_valid_height}\"\n",
    "    \n",
    "    while True:\n",
    "        response = requests.get(url)\n",
    "        status = response.json()\n",
    "        print(status)\n",
    "\n",
    "        if status.get(\"data\", {}).get(\"success\"):\n",
    "            print(\"✅ Transaction Successful!\")\n",
    "            break\n",
    "        elif status.get(\"data\", {}).get(\"expired\"):\n",
    "            print(\"❌ Transaction Expired. Try Again.\")\n",
    "            break\n",
    "\n",
    "        time.sleep(5)\n",
    "\"\"\"\n",
    "\n",
    "# Step 5: Final execution script\n",
    "execute_swap_code = \"\"\"\n",
    "# ✅ Run Full Swap Process\n",
    "TOKEN_IN = \"So11111111111111111111111111111111111111112\"  # Example SOL token\n",
    "TOKEN_OUT = \"7EYnhQoR9YM3N7UoaKRoA44Uy8JeaZV3qyouov87awMs\"  # Example USDC token\n",
    "AMOUNT = \"100000000\"  # Amount in lamports (0.1 SOL)\n",
    "SLIPPAGE = 0.5\n",
    "\n",
    "swap_data = get_swap_route(TOKEN_IN, TOKEN_OUT, AMOUNT, SOLANA_WALLET_ADDRESS, SLIPPAGE)\n",
    "if swap_data:\n",
    "    tx_result = submit_transaction(swap_data)\n",
    "    if tx_result:\n",
    "        check_transaction_status(tx_result['data']['hash'], swap_data['data']['raw_tx']['lastValidBlockHeight'])\n",
    "\"\"\"\n",
    "\n",
    "# Updating the notebook\n",
    "updated_cells = [\n",
    "    nbformat.v4.new_code_cell(env_loading_code),\n",
    "    nbformat.v4.new_code_cell(get_swap_route_code),\n",
    "    nbformat.v4.new_code_cell(submit_transaction_code),\n",
    "    nbformat.v4.new_code_cell(check_transaction_status_code),\n",
    "    nbformat.v4.new_code_cell(execute_swap_code),\n",
    "]\n",
    "\n",
    "\n"
   ]
  },
  {
   "cell_type": "code",
   "execution_count": null,
   "id": "7cc554b6",
   "metadata": {},
   "outputs": [],
   "source": []
  }
 ],
 "metadata": {
  "kernelspec": {
   "display_name": "Python 3.10",
   "language": "python",
   "name": "python3.10"
  },
  "language_info": {
   "codemirror_mode": {
    "name": "ipython",
    "version": 3
   },
   "file_extension": ".py",
   "mimetype": "text/x-python",
   "name": "python",
   "nbconvert_exporter": "python",
   "pygments_lexer": "ipython3",
   "version": "3.10.5"
  }
 },
 "nbformat": 4,
 "nbformat_minor": 5
}
