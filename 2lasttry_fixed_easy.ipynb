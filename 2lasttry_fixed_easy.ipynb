{
 "cells": [
  {
   "cell_type": "code",
   "execution_count": 1,
   "metadata": {},
   "outputs": [],
   "source": [
    "# Install required packages (Run this once)\n",
    "%pip install --upgrade solana\n",
    "%pip install --user solana solders base58 python-dotenv requests"
   ]
  },
  {
   "cell_type": "code",
   "execution_count": 2,
   "metadata": {},
   "outputs": [],
   "source": [
    "# Import necessary libraries\n",
    "import os\n",
    "from dotenv import load_dotenv\n",
    "import base58\n",
    "from solana.keypair import Keypair\n",
    "import requests\n",
    "import time\n"
   ]
  },
  {
   "cell_type": "code",
   "execution_count": 3,
   "metadata": {},
   "outputs": [
    {
     "name": "stdout",
     "output_type": "stream",
     "text": [
      "✅ base58 is installed and working!\n"
     ]
    }
   ],
   "source": [
    "print(\"✅ base58 is installed and working!\")"
   ]
  },
  {
   "cell_type": "code",
   "execution_count": 4,
   "metadata": {},
   "outputs": [],
   "source": [
    "# Load environment variables from .env file\n",
    "env_path = \".env\"\n",
    "if not os.path.exists(env_path):\n",
    "    raise FileNotFoundError(\"Error: .env file is missing!\")\n",
    "\n",
    "load_dotenv(env_path, override=True)\n",
    "\n",
    "# Fetch Wallet Credentials\n",
    "PRIVATE_KEY = os.getenv(\"PRIVATE_KEY\")\n",
    "SOLANA_WALLET_ADDRESS = os.getenv(\"SOLANA_WALLET_ADDRESS\")\n",
    "\n",
    "# Validate private key\n",
    "if not PRIVATE_KEY:\n",
    "    raise ValueError(\"Error: PRIVATE_KEY is missing from environment variables.\")\n",
    "\n",
    "try:\n",
    "    private_key_bytes = base58.b58decode(PRIVATE_KEY)\n",
    "    keypair = Keypair.from_secret_key(private_key_bytes)\n",
    "    print(f\"✅ Wallet Loaded: {SOLANA_WALLET_ADDRESS}\")\n",
    "except Exception as e:\n",
    "    print(f\"❌ Error loading wallet: {e}\")\n"
   ]
  },
  {
   "cell_type": "code",
   "execution_count": 5,
   "metadata": {},
   "outputs": [],
   "source": [
    "# Fetches swap route from GMGN API\n",
    "def get_swap_route(token_in, token_out, amount, wallet_address, slippage=1, anti_mev=True):\n",
    "    url = \"https://gmgn.ai/defi/router/v1/sol/tx/get_swap_route\"\n",
    "    params = {\n",
    "        \"token_in_address\": token_in,\n",
    "        \"token_out_address\": token_out,\n",
    "        \"in_amount\": amount,\n",
    "        \"from_address\": wallet_address,\n",
    "        \"slippage\": slippage,\n",
    "        \"is_anti_mev\": str(anti_mev).lower(),\n",
    "    }\n",
    "    response = requests.get(url, params=params)\n",
    "    if response.status_code == 200:\n",
    "        data = response.json()\n",
    "        if data.get(\"code\") != 0:\n",
    "            print(f\"❌ API Error: {data.get('msg')}\")\n",
    "            return None\n",
    "        return data\n",
    "    else:\n",
    "        print(f\"❌ API Request Failed. Status Code: {response.status_code}\")\n",
    "        return None\n"
   ]
  },
  {
   "cell_type": "code",
   "execution_count": 6,
   "metadata": {},
 
